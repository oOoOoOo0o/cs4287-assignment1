{
 "cells": [
  {
   "cell_type": "markdown",
   "id": "8a77807f92f26ee",
   "metadata": {},
   "source": "Bayan Nezamabad - 20251971, Euan Bourke - 21332142"
  },
  {
   "cell_type": "code",
   "id": "b6a06f02",
   "metadata": {
    "ExecuteTime": {
     "end_time": "2024-10-10T13:24:58.447603Z",
     "start_time": "2024-10-10T13:24:58.439628Z"
    }
   },
   "source": [
    "# Imports\n",
    "import tensorflow as tf\n",
    "from tensorflow.keras import models, layers, optimizers\n",
    "import matplotlib.pyplot as plt"
   ],
   "outputs": [],
   "execution_count": 4
  },
  {
   "cell_type": "code",
   "id": "05de5d8d",
   "metadata": {
    "ExecuteTime": {
     "end_time": "2024-10-10T13:24:59.946628Z",
     "start_time": "2024-10-10T13:24:59.528075Z"
    }
   },
   "source": [
    "# Hyper Params\n",
    "EPOCHS = 20\n",
    "BATCH_SIZE = 128\n",
    "VERBOSE = 1\n",
    "OPTIMIZER = optimizers.Adam()\n",
    "VALIDATION_SPLIT=0.90\n",
    "\n",
    "IMG_ROW, IMG_COL = 224, 224 # Image dimensions\n",
    "INPUT_SHAPE = (IMG_ROW, IMG_COL, 3) # 3 as RGB\n",
    "NB_CLASSES = 100 # 100 different classifications for 100 different species of butterfly or moth"
   ],
   "outputs": [],
   "execution_count": 5
  },
  {
   "cell_type": "code",
   "id": "2a862c54",
   "metadata": {
    "ExecuteTime": {
     "end_time": "2024-10-10T13:25:01.500204Z",
     "start_time": "2024-10-10T13:25:01.495217Z"
    }
   },
   "source": [
    "class Dataset:\n",
    "    def __init__(self):\n",
    "        return\n",
    "        "
   ],
   "outputs": [],
   "execution_count": 6
  },
  {
   "cell_type": "code",
   "id": "a2fd5abb4cad9c32",
   "metadata": {
    "ExecuteTime": {
     "end_time": "2024-10-10T13:37:54.343160Z",
     "start_time": "2024-10-10T13:37:54.020806Z"
    }
   },
   "source": [
    "class BENet: # Our implementation of AlexNet\n",
    "    def __init__(self):\n",
    "        self.model = tf.keras.models.Sequential()\n",
    "        self.build_layers()\n",
    "        self.model.compile(optimizer=optimizers.SGD(learning_rate = 0.001), loss=\"categorical_crossentropy\", metrics=['accuracy'])\n",
    "\n",
    "    def build_layers(self):\n",
    "\n",
    "        # Convolutional Layers\n",
    "        self.model.add(layers.Conv2D(96, (11, 11), strides=(4, 4), activation='relu', input_shape=INPUT_SHAPE))\n",
    "        self.model.add(layers.MaxPooling2D(pool_size=(3, 3), strides=(2, 2)))\n",
    "        self.model.add(layers.BatchNormalization())\n",
    "\n",
    "        self.model.add(layers.Conv2D(256, (5, 5), padding='same', activation='relu'))\n",
    "        self.model.add(layers.MaxPooling2D(pool_size=(3, 3), strides=(2, 2)))\n",
    "        self.model.add(layers.BatchNormalization())\n",
    "\n",
    "        self.model.add(layers.Conv2D(384, (3, 3), padding='same', activation='relu'))\n",
    "        self.model.add(layers.Conv2D(384, (3, 3), padding='same', activation='relu'))\n",
    "        self.model.add(layers.Conv2D(256, (3, 3), padding='same', activation='relu'))\n",
    "\n",
    "        self.model.add(layers.MaxPooling2D(pool_size=(3, 3), strides=(2, 2)))\n",
    "\n",
    "        self.model.add(layers.Flatten()) # Flatten Layers\n",
    "\n",
    "        # Full Connected Layers\n",
    "        self.model.add(layers.Dropout(rate=0.5))\n",
    "        self.model.add(layers.Dense(4096, activation='relu'))\n",
    "\n",
    "        self.model.add(layers.Dropout(rate=0.5))\n",
    "        self.model.add(layers.Dense(4096, activation='relu'))\n",
    "        \n",
    "        self.model.add(layers.Dense(NB_CLASSES, activation='softmax'))\n",
    "        \n",
    "        return self.model\n",
    "\n",
    "model = BENet()"
   ],
   "outputs": [],
   "execution_count": 12
  },
  {
   "cell_type": "markdown",
   "id": "b20ee83b",
   "metadata": {},
   "source": [
    "Refs: \\\n",
    "AlexNet Architecture: https://www.kaggle.com/code/blurredmachine/alexnet-architecture-a-complete-guide \\\n",
    "https://medium.com/@siddheshb008/alexnet-architecture-explained-b6240c528bd5\n",
    "Keras.layer docs: https://www.tensorflow.org/api_docs/python/tf/keras/layers/\n"
   ]
  }
 ],
 "metadata": {
  "kernelspec": {
   "display_name": ".venv",
   "language": "python",
   "name": "python3"
  },
  "language_info": {
   "codemirror_mode": {
    "name": "ipython",
    "version": 3
   },
   "file_extension": ".py",
   "mimetype": "text/x-python",
   "name": "python",
   "nbconvert_exporter": "python",
   "pygments_lexer": "ipython3",
   "version": "3.11.2"
  }
 },
 "nbformat": 4,
 "nbformat_minor": 5
}
