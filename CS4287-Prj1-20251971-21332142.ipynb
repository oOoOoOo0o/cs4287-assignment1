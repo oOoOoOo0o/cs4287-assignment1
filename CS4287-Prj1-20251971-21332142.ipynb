{
 "cells": [
  {
   "cell_type": "markdown",
   "id": "8a77807f92f26ee",
   "metadata": {},
   "source": [
    "Bayan Nezamabad - 20251971, Euan Bourke - 21332142"
   ]
  },
  {
   "cell_type": "code",
   "execution_count": 16,
   "id": "b6a06f02",
   "metadata": {},
   "outputs": [],
   "source": [
    "# Imports\n",
    "import tensorflow as tf\n",
    "from tensorflow.keras import models, layers, optimizers\n",
    "import matplotlib.pyplot as plt"
   ]
  },
  {
   "cell_type": "code",
   "execution_count": 17,
   "id": "05de5d8d",
   "metadata": {},
   "outputs": [],
   "source": [
    "# Hyper Params\n",
    "EPOCHS = 20\n",
    "BATCH_SIZE = 128\n",
    "VERBOSE = 1\n",
    "OPTIMIZER = optimizers.Adam()\n",
    "VALIDATION_SPLIT=0.90\n",
    "\n",
    "IMG_ROW, IMG_COL = 224, 224 # Image dimensions\n",
    "INPUT_SHAPE = (IMG_ROW, IMG_COL, 3) # 3 as RGB\n",
    "NB_CLASSES = 100 # 100 different classifications of species"
   ]
  },
  {
   "cell_type": "code",
   "execution_count": 18,
   "id": "2a862c54",
   "metadata": {},
   "outputs": [],
   "source": [
    "class Dataset:\n",
    "    def __init__(self):\n",
    "        return\n",
    "        "
   ]
  },
  {
   "cell_type": "code",
   "execution_count": 19,
   "id": "a2fd5abb4cad9c32",
   "metadata": {},
   "outputs": [
    {
     "name": "stderr",
     "output_type": "stream",
     "text": [
      "/Users/euanbourke/Documents/cs4287-assignment1/.venv/lib/python3.11/site-packages/keras/src/layers/convolutional/base_conv.py:107: UserWarning: Do not pass an `input_shape`/`input_dim` argument to a layer. When using Sequential models, prefer using an `Input(shape)` object as the first layer in the model instead.\n",
      "  super().__init__(activity_regularizer=activity_regularizer, **kwargs)\n"
     ]
    }
   ],
   "source": [
    "class BENet: # Our implementation of AlexNet\n",
    "    def __init__(self):\n",
    "        self.model = tf.keras.models.Sequential()\n",
    "        self.build_layers()\n",
    "\n",
    "    def build_layers(self):\n",
    "\n",
    "        # Convolutional Layers\n",
    "        self.model.add(layers.Conv2D(96, (11, 11), strides=(4, 4), activation='relu', input_shape=INPUT_SHAPE))\n",
    "        self.model.add(layers.MaxPooling2D(pool_size=(3, 3), strides=2))\n",
    "        self.model.add(layers.BatchNormalization())\n",
    "\n",
    "        self.model.add(layers.Conv2D(256, (5, 5), padding='same', activation='relu'))\n",
    "        self.model.add(layers.MaxPooling2D(pool_size=(3, 3), strides=2))\n",
    "        self.model.add(layers.BatchNormalization())\n",
    "\n",
    "        self.model.add(layers.Conv2D(384, (3, 3), padding='same', activation='relu'))\n",
    "        self.model.add(layers.Conv2D(384, (3, 3), padding='same', activation='relu'))\n",
    "        self.model.add(layers.Conv2D(256, (3, 3), padding='same', activation='relu'))\n",
    "\n",
    "        self.model.add(layers.MaxPooling2D(pool_size=(3, 3), strides=2))\n",
    "\n",
    "        self.model.add(layers.Flatten()) # Flatten Layers\n",
    "\n",
    "        # Full Connected Layers\n",
    "        self.model.add(layers.Dropout(rate=0.5))\n",
    "        self.model.add(layers.Dense(4096, activation='relu'))\n",
    "\n",
    "        self.model.add(layers.Dropout(rate=0.5))\n",
    "        self.model.add(layers.Dense(4096, activation='relu'))\n",
    "        \n",
    "        self.model.add(layers.Dense(NB_CLASSES, activation='softmax'))\n",
    "        \n",
    "        return model\n",
    "\n",
    "\n",
    "\n",
    "\n",
    "model = BENet()\n",
    "\n",
    "        "
   ]
  },
  {
   "cell_type": "markdown",
   "id": "b20ee83b",
   "metadata": {},
   "source": [
    "Refs: \\\n",
    "AlexNet Structure: https://www.kaggle.com/code/blurredmachine/alexnet-architecture-a-complete-guide \\\n",
    "Keras.layer docs: https://www.tensorflow.org/api_docs/python/tf/keras/layers/\n"
   ]
  }
 ],
 "metadata": {
  "kernelspec": {
   "display_name": ".venv",
   "language": "python",
   "name": "python3"
  },
  "language_info": {
   "codemirror_mode": {
    "name": "ipython",
    "version": 3
   },
   "file_extension": ".py",
   "mimetype": "text/x-python",
   "name": "python",
   "nbconvert_exporter": "python",
   "pygments_lexer": "ipython3",
   "version": "3.11.2"
  }
 },
 "nbformat": 4,
 "nbformat_minor": 5
}
